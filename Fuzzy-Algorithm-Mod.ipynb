{
 "cells": [
  {
   "cell_type": "code",
   "execution_count": 2,
   "metadata": {},
   "outputs": [],
   "source": [
    "import numpy as np\n",
    "import pandas as pd \n",
    "\n",
    "# Visualisation\n",
    "import matplotlib.pyplot as plt\n",
    "\n",
    "from datetime import datetime\n",
    "\n",
    "# Scaling\n",
    "from sklearn.preprocessing import MinMaxScaler\n",
    "\n",
    "# Metrics\n",
    "from sklearn.metrics import r2_score,mean_squared_error"
   ]
  },
  {
   "cell_type": "markdown",
   "metadata": {},
   "source": [
    "## Importing data into dataframe"
   ]
  },
  {
   "cell_type": "code",
   "execution_count": 3,
   "metadata": {},
   "outputs": [
    {
     "data": {
      "text/plain": [
       "(5163, 15)"
      ]
     },
     "execution_count": 3,
     "metadata": {},
     "output_type": "execute_result"
    }
   ],
   "source": [
    "df=pd.read_csv('archive-nifty/SBIN.csv',date_parser=True)\n",
    "df.shape"
   ]
  },
  {
   "cell_type": "code",
   "execution_count": 4,
   "metadata": {
    "scrolled": true
   },
   "outputs": [
    {
     "data": {
      "text/html": [
       "<div>\n",
       "<style scoped>\n",
       "    .dataframe tbody tr th:only-of-type {\n",
       "        vertical-align: middle;\n",
       "    }\n",
       "\n",
       "    .dataframe tbody tr th {\n",
       "        vertical-align: top;\n",
       "    }\n",
       "\n",
       "    .dataframe thead th {\n",
       "        text-align: right;\n",
       "    }\n",
       "</style>\n",
       "<table border=\"1\" class=\"dataframe\">\n",
       "  <thead>\n",
       "    <tr style=\"text-align: right;\">\n",
       "      <th></th>\n",
       "      <th>Date</th>\n",
       "      <th>Symbol</th>\n",
       "      <th>Series</th>\n",
       "      <th>Prev Close</th>\n",
       "      <th>Open</th>\n",
       "      <th>High</th>\n",
       "      <th>Low</th>\n",
       "      <th>Last</th>\n",
       "      <th>Close</th>\n",
       "      <th>VWAP</th>\n",
       "      <th>Volume</th>\n",
       "      <th>Turnover</th>\n",
       "      <th>Trades</th>\n",
       "      <th>Deliverable Volume</th>\n",
       "      <th>%Deliverble</th>\n",
       "    </tr>\n",
       "  </thead>\n",
       "  <tbody>\n",
       "    <tr>\n",
       "      <th>0</th>\n",
       "      <td>2000-01-03</td>\n",
       "      <td>SBIN</td>\n",
       "      <td>EQ</td>\n",
       "      <td>225.60</td>\n",
       "      <td>236.00</td>\n",
       "      <td>243.65</td>\n",
       "      <td>234.25</td>\n",
       "      <td>243.65</td>\n",
       "      <td>243.65</td>\n",
       "      <td>240.83</td>\n",
       "      <td>2373228</td>\n",
       "      <td>5.715338e+13</td>\n",
       "      <td>NaN</td>\n",
       "      <td>NaN</td>\n",
       "      <td>NaN</td>\n",
       "    </tr>\n",
       "    <tr>\n",
       "      <th>1</th>\n",
       "      <td>2000-01-04</td>\n",
       "      <td>SBIN</td>\n",
       "      <td>EQ</td>\n",
       "      <td>243.65</td>\n",
       "      <td>243.65</td>\n",
       "      <td>262.00</td>\n",
       "      <td>238.85</td>\n",
       "      <td>258.00</td>\n",
       "      <td>259.10</td>\n",
       "      <td>251.46</td>\n",
       "      <td>4495741</td>\n",
       "      <td>1.130506e+14</td>\n",
       "      <td>NaN</td>\n",
       "      <td>NaN</td>\n",
       "      <td>NaN</td>\n",
       "    </tr>\n",
       "    <tr>\n",
       "      <th>2</th>\n",
       "      <td>2000-01-05</td>\n",
       "      <td>SBIN</td>\n",
       "      <td>EQ</td>\n",
       "      <td>259.10</td>\n",
       "      <td>249.00</td>\n",
       "      <td>264.70</td>\n",
       "      <td>245.00</td>\n",
       "      <td>249.05</td>\n",
       "      <td>248.45</td>\n",
       "      <td>252.35</td>\n",
       "      <td>3434058</td>\n",
       "      <td>8.666008e+13</td>\n",
       "      <td>NaN</td>\n",
       "      <td>NaN</td>\n",
       "      <td>NaN</td>\n",
       "    </tr>\n",
       "    <tr>\n",
       "      <th>3</th>\n",
       "      <td>2000-01-06</td>\n",
       "      <td>SBIN</td>\n",
       "      <td>EQ</td>\n",
       "      <td>248.45</td>\n",
       "      <td>252.00</td>\n",
       "      <td>268.00</td>\n",
       "      <td>252.00</td>\n",
       "      <td>260.50</td>\n",
       "      <td>261.00</td>\n",
       "      <td>262.18</td>\n",
       "      <td>6658801</td>\n",
       "      <td>1.745817e+14</td>\n",
       "      <td>NaN</td>\n",
       "      <td>NaN</td>\n",
       "      <td>NaN</td>\n",
       "    </tr>\n",
       "    <tr>\n",
       "      <th>4</th>\n",
       "      <td>2000-01-07</td>\n",
       "      <td>SBIN</td>\n",
       "      <td>EQ</td>\n",
       "      <td>261.00</td>\n",
       "      <td>261.50</td>\n",
       "      <td>279.90</td>\n",
       "      <td>255.00</td>\n",
       "      <td>279.00</td>\n",
       "      <td>273.30</td>\n",
       "      <td>269.02</td>\n",
       "      <td>7873985</td>\n",
       "      <td>2.118287e+14</td>\n",
       "      <td>NaN</td>\n",
       "      <td>NaN</td>\n",
       "      <td>NaN</td>\n",
       "    </tr>\n",
       "  </tbody>\n",
       "</table>\n",
       "</div>"
      ],
      "text/plain": [
       "         Date Symbol Series  Prev Close    Open    High     Low    Last  \\\n",
       "0  2000-01-03   SBIN     EQ      225.60  236.00  243.65  234.25  243.65   \n",
       "1  2000-01-04   SBIN     EQ      243.65  243.65  262.00  238.85  258.00   \n",
       "2  2000-01-05   SBIN     EQ      259.10  249.00  264.70  245.00  249.05   \n",
       "3  2000-01-06   SBIN     EQ      248.45  252.00  268.00  252.00  260.50   \n",
       "4  2000-01-07   SBIN     EQ      261.00  261.50  279.90  255.00  279.00   \n",
       "\n",
       "    Close    VWAP   Volume      Turnover  Trades  Deliverable Volume  \\\n",
       "0  243.65  240.83  2373228  5.715338e+13     NaN                 NaN   \n",
       "1  259.10  251.46  4495741  1.130506e+14     NaN                 NaN   \n",
       "2  248.45  252.35  3434058  8.666008e+13     NaN                 NaN   \n",
       "3  261.00  262.18  6658801  1.745817e+14     NaN                 NaN   \n",
       "4  273.30  269.02  7873985  2.118287e+14     NaN                 NaN   \n",
       "\n",
       "   %Deliverble  \n",
       "0          NaN  \n",
       "1          NaN  \n",
       "2          NaN  \n",
       "3          NaN  \n",
       "4          NaN  "
      ]
     },
     "execution_count": 4,
     "metadata": {},
     "output_type": "execute_result"
    }
   ],
   "source": [
    "df.head()"
   ]
  },
  {
   "cell_type": "markdown",
   "metadata": {},
   "source": [
    "## Calculating momentum and storing it into dataframe"
   ]
  },
  {
   "cell_type": "code",
   "execution_count": 5,
   "metadata": {},
   "outputs": [],
   "source": [
    "df[\"Momentum\"] = df[\"Close\"] - df[\"Open\"]\n",
    "df[\"MomentumValue\"] = abs(df[\"Momentum\"])"
   ]
  },
  {
   "cell_type": "markdown",
   "metadata": {},
   "source": [
    "## Function to calculate the limits for the fuzzy membership"
   ]
  },
  {
   "cell_type": "code",
   "execution_count": 20,
   "metadata": {},
   "outputs": [],
   "source": [
    "def getLimits(values):\n",
    "    maximum = values.max()\n",
    "    minimum = values.min()\n",
    "    a = (0.15 * (maximum-minimum)) + minimum\n",
    "    b = (0.30 * (maximum-minimum)) + minimum\n",
    "    c = (0.45 * (maximum-minimum)) + minimum\n",
    "    d = (0.55 * (maximum-minimum)) + minimum\n",
    "    e = (0.70 * (maximum-minimum)) + minimum\n",
    "    f = (0.85 * (maximum-minimum)) + minimum\n",
    "    return (a,b,c,d,e,f)"
   ]
  },
  {
   "cell_type": "markdown",
   "metadata": {},
   "source": [
    "## Class with methods to get the membership values"
   ]
  },
  {
   "cell_type": "code",
   "execution_count": 7,
   "metadata": {},
   "outputs": [],
   "source": [
    "class Membership:\n",
    "    \n",
    "    def __init__(self, x, limits):\n",
    "        \n",
    "        (a,b,c,d,e) = limits\n",
    "        self.vbr = self.getVBR(x, a, b)\n",
    "        self.br = self.getBR(x, a, b, c)\n",
    "        self.n = self.getN(x, b, c, d)\n",
    "        self.bl = self.getBL(x, c, d, e)\n",
    "        self.vbl = self.getVBL(x, d, e)\n",
    "    \n",
    "    def getVBR(self, x, a, b):\n",
    "        \n",
    "        if x <= a: return 1\n",
    "        elif a <= x <=b: return (b-x)/(b-a)\n",
    "        elif x >= b: return 0\n",
    "        \n",
    "    def getBR(self, x, a, b, c):\n",
    "        \n",
    "        if x <= a: return 0\n",
    "        elif a <= x <= b: return (x-a)/(b-a)\n",
    "        elif b <= x <= c: return (c-x)/(c-b)\n",
    "        elif x >= c: return 0\n",
    "        \n",
    "    def getN(self, x, b, c, d):\n",
    "        \n",
    "        if x <= b: return 0\n",
    "        elif b <= x <= c: return (x-b)/(c-b)\n",
    "        elif c <= x <= d: return (d-x)/(d-c)\n",
    "        elif x >= d: return 0\n",
    "        \n",
    "    def getBL(self, x, c, d, e):\n",
    "        \n",
    "        if x <= c: return 0\n",
    "        elif c <= x <= d: return (x-c)/(d-c)\n",
    "        elif d <= x <= e: return (e-x)/(e-d)\n",
    "        elif x >= e: return 0\n",
    "        \n",
    "    def getVBL(self, x, d, e):\n",
    "        \n",
    "        if x >= e: return 1\n",
    "        elif d <= x <= e: return (x-d)/(e-d)\n",
    "        elif x <= d: return 0\n",
    "        \n",
    "    def getMembership(self):\n",
    "        \n",
    "        return (self.vbr, self.br, self.n, self.bl, self.vbl)\n",
    "    "
   ]
  },
  {
   "cell_type": "markdown",
   "metadata": {},
   "source": [
    "## Function to calculate the fuzzy membership"
   ]
  },
  {
   "cell_type": "code",
   "execution_count": 8,
   "metadata": {},
   "outputs": [],
   "source": [
    "def getFuzzyMomentum(momentum, membership):\n",
    "#     if momentum >= 0: return max(membership)\n",
    "#     else: return sorted(set(membership))[-2]\n",
    "    return max(membership)"
   ]
  },
  {
   "cell_type": "markdown",
   "metadata": {},
   "source": [
    "## Function to estimate with fuzzy membership"
   ]
  },
  {
   "cell_type": "code",
   "execution_count": 9,
   "metadata": {},
   "outputs": [],
   "source": [
    "def edtimatedFuzzyMomentum(fuzzyMomentums):\n",
    "    estimatedValue = sum(fuzzyMomentums)/len(fuzzyMomentums)\n",
    "    if 0 <= estimatedValue <= 0.42: label = \"Bearish\"\n",
    "    elif 0.42 < estimatedValue <= 0.6: label = \"Neutral\"\n",
    "    elif 0.6 < estimatedValue <= 1: label = \"Bullish\"\n",
    "    return (estimatedValue, label)"
   ]
  },
  {
   "cell_type": "markdown",
   "metadata": {},
   "source": [
    "## Getting the limits of the fuzzy function"
   ]
  },
  {
   "cell_type": "code",
   "execution_count": 21,
   "metadata": {},
   "outputs": [],
   "source": [
    "limits = getLimits(df[\"Momentum\"])"
   ]
  },
  {
   "cell_type": "code",
   "execution_count": 23,
   "metadata": {},
   "outputs": [
    {
     "data": {
      "image/png": "[encoded data removed]",
      "text/plain": [
       "<Figure size 432x288 with 1 Axes>"
      ]
     },
     "metadata": {
      "needs_background": "light"
     },
     "output_type": "display_data"
    }
   ],
   "source": [
    "colors = ['r','orange','y','y','orange','red']\n",
    "plt.scatter(df.index,df[\"Momentum\"],color=\"k\")\n",
    "for xc,c in zip(limits,colors):\n",
    "    plt.axhline(y=xc, label='line at x = {}'.format(round(xc,2)),c=c)\n",
    "plt.xlabel(\"Days\")\n",
    "plt.ylabel(\"Momentum Value\")\n",
    "plt.legend()\n",
    "plt.show()"
   ]
  },
  {
   "cell_type": "code",
   "execution_count": 15,
   "metadata": {},
   "outputs": [
    {
     "data": {
      "image/png": "[encoded data removed]",
      "text/plain": [
       "<Figure size 432x288 with 1 Axes>"
      ]
     },
     "metadata": {
      "needs_background": "light"
     },
     "output_type": "display_data"
    }
   ],
   "source": [
    "temp = []\n",
    "for value in [i for i in range(-300,200)]:\n",
    "    temp.append(Membership(value,limits).getMembership())\n",
    "temp = pd.DataFrame(temp,columns=[\"VBR\",\"BR\",\"N\",\"BL\",\"VBL\"])\n",
    "temp[\"Momentum\"] = [i for i in range(-300,200)]\n",
    "temp.plot(x = \"Momentum\")\n",
    "colors = ['lightblue','yellow','lime','red','violet']\n",
    "for i in range(5):\n",
    "    plt.fill_between(temp[\"Momentum\"],temp.iloc[:,i],color = colors[i],alpha=0.3)\n",
    "for xc,c in zip(limits,colors):\n",
    "    plt.axvline(x=xc, label='line at x = {}'.format(round(xc,2)),ls=\"--\",c=c,alpha=0.5)\n",
    "plt.title(\"Triangular and Trapezoidal Membership Function \")\n",
    "plt.xlabel(\"Membership value\")\n",
    "plt.ylabel(\"Momentum value\")\n",
    "plt.show()"
   ]
  },
  {
   "cell_type": "code",
   "execution_count": 12,
   "metadata": {},
   "outputs": [],
   "source": [
    "memberships = []\n",
    "for value in df[\"MomentumValue\"].values:\n",
    "    memberships.append(Membership(value,limits).getMembership())"
   ]
  },
  {
   "cell_type": "code",
   "execution_count": 13,
   "metadata": {},
   "outputs": [],
   "source": [
    "fuzzyMomentums = []\n",
    "for (momentum,membership) in zip(df[\"Momentum\"].values,memberships):\n",
    "    fuzzyMomentums.append(getFuzzyMomentum(momentum,membership))"
   ]
  },
  {
   "cell_type": "code",
   "execution_count": 14,
   "metadata": {},
   "outputs": [],
   "source": [
    "memdf = pd.DataFrame(memberships,columns=[\"VBR\",\"BR\",\"N\",\"BL\",\"VBL\"])\n",
    "memdf[\"FuzzyMomentum\"] = fuzzyMomentums"
   ]
  },
  {
   "cell_type": "code",
   "execution_count": 15,
   "metadata": {},
   "outputs": [],
   "source": [
    "FuzzyDF = pd.merge(df[[\"Date\",\"Open\",\"Close\",\"Momentum\",\"MomentumValue\"]],memdf,left_index=True,right_index=True)"
   ]
  },
  {
   "cell_type": "code",
   "execution_count": 16,
   "metadata": {},
   "outputs": [
    {
     "data": {
      "text/html": [
       "<div>\n",
       "<style scoped>\n",
       "    .dataframe tbody tr th:only-of-type {\n",
       "        vertical-align: middle;\n",
       "    }\n",
       "\n",
       "    .dataframe tbody tr th {\n",
       "        vertical-align: top;\n",
       "    }\n",
       "\n",
       "    .dataframe thead th {\n",
       "        text-align: right;\n",
       "    }\n",
       "</style>\n",
       "<table border=\"1\" class=\"dataframe\">\n",
       "  <thead>\n",
       "    <tr style=\"text-align: right;\">\n",
       "      <th></th>\n",
       "      <th>Date</th>\n",
       "      <th>Open</th>\n",
       "      <th>Close</th>\n",
       "      <th>Momentum</th>\n",
       "      <th>MomentumValue</th>\n",
       "      <th>VBR</th>\n",
       "      <th>BR</th>\n",
       "      <th>N</th>\n",
       "      <th>BL</th>\n",
       "      <th>VBL</th>\n",
       "      <th>FuzzyMomentum</th>\n",
       "    </tr>\n",
       "  </thead>\n",
       "  <tbody>\n",
       "    <tr>\n",
       "      <th>0</th>\n",
       "      <td>2000-01-03</td>\n",
       "      <td>236.00</td>\n",
       "      <td>243.65</td>\n",
       "      <td>7.65</td>\n",
       "      <td>7.65</td>\n",
       "      <td>1.0</td>\n",
       "      <td>0.0</td>\n",
       "      <td>0.0</td>\n",
       "      <td>0.0</td>\n",
       "      <td>0.0</td>\n",
       "      <td>1.0</td>\n",
       "    </tr>\n",
       "    <tr>\n",
       "      <th>1</th>\n",
       "      <td>2000-01-04</td>\n",
       "      <td>243.65</td>\n",
       "      <td>259.10</td>\n",
       "      <td>15.45</td>\n",
       "      <td>15.45</td>\n",
       "      <td>1.0</td>\n",
       "      <td>0.0</td>\n",
       "      <td>0.0</td>\n",
       "      <td>0.0</td>\n",
       "      <td>0.0</td>\n",
       "      <td>1.0</td>\n",
       "    </tr>\n",
       "    <tr>\n",
       "      <th>2</th>\n",
       "      <td>2000-01-05</td>\n",
       "      <td>249.00</td>\n",
       "      <td>248.45</td>\n",
       "      <td>-0.55</td>\n",
       "      <td>0.55</td>\n",
       "      <td>1.0</td>\n",
       "      <td>0.0</td>\n",
       "      <td>0.0</td>\n",
       "      <td>0.0</td>\n",
       "      <td>0.0</td>\n",
       "      <td>1.0</td>\n",
       "    </tr>\n",
       "    <tr>\n",
       "      <th>3</th>\n",
       "      <td>2000-01-06</td>\n",
       "      <td>252.00</td>\n",
       "      <td>261.00</td>\n",
       "      <td>9.00</td>\n",
       "      <td>9.00</td>\n",
       "      <td>1.0</td>\n",
       "      <td>0.0</td>\n",
       "      <td>0.0</td>\n",
       "      <td>0.0</td>\n",
       "      <td>0.0</td>\n",
       "      <td>1.0</td>\n",
       "    </tr>\n",
       "    <tr>\n",
       "      <th>4</th>\n",
       "      <td>2000-01-07</td>\n",
       "      <td>261.50</td>\n",
       "      <td>273.30</td>\n",
       "      <td>11.80</td>\n",
       "      <td>11.80</td>\n",
       "      <td>1.0</td>\n",
       "      <td>0.0</td>\n",
       "      <td>0.0</td>\n",
       "      <td>0.0</td>\n",
       "      <td>0.0</td>\n",
       "      <td>1.0</td>\n",
       "    </tr>\n",
       "    <tr>\n",
       "      <th>...</th>\n",
       "      <td>...</td>\n",
       "      <td>...</td>\n",
       "      <td>...</td>\n",
       "      <td>...</td>\n",
       "      <td>...</td>\n",
       "      <td>...</td>\n",
       "      <td>...</td>\n",
       "      <td>...</td>\n",
       "      <td>...</td>\n",
       "      <td>...</td>\n",
       "      <td>...</td>\n",
       "    </tr>\n",
       "    <tr>\n",
       "      <th>5158</th>\n",
       "      <td>2020-09-24</td>\n",
       "      <td>181.10</td>\n",
       "      <td>176.35</td>\n",
       "      <td>-4.75</td>\n",
       "      <td>4.75</td>\n",
       "      <td>1.0</td>\n",
       "      <td>0.0</td>\n",
       "      <td>0.0</td>\n",
       "      <td>0.0</td>\n",
       "      <td>0.0</td>\n",
       "      <td>1.0</td>\n",
       "    </tr>\n",
       "    <tr>\n",
       "      <th>5159</th>\n",
       "      <td>2020-09-25</td>\n",
       "      <td>179.00</td>\n",
       "      <td>182.20</td>\n",
       "      <td>3.20</td>\n",
       "      <td>3.20</td>\n",
       "      <td>1.0</td>\n",
       "      <td>0.0</td>\n",
       "      <td>0.0</td>\n",
       "      <td>0.0</td>\n",
       "      <td>0.0</td>\n",
       "      <td>1.0</td>\n",
       "    </tr>\n",
       "    <tr>\n",
       "      <th>5160</th>\n",
       "      <td>2020-09-28</td>\n",
       "      <td>184.00</td>\n",
       "      <td>187.25</td>\n",
       "      <td>3.25</td>\n",
       "      <td>3.25</td>\n",
       "      <td>1.0</td>\n",
       "      <td>0.0</td>\n",
       "      <td>0.0</td>\n",
       "      <td>0.0</td>\n",
       "      <td>0.0</td>\n",
       "      <td>1.0</td>\n",
       "    </tr>\n",
       "    <tr>\n",
       "      <th>5161</th>\n",
       "      <td>2020-09-29</td>\n",
       "      <td>188.50</td>\n",
       "      <td>185.05</td>\n",
       "      <td>-3.45</td>\n",
       "      <td>3.45</td>\n",
       "      <td>1.0</td>\n",
       "      <td>0.0</td>\n",
       "      <td>0.0</td>\n",
       "      <td>0.0</td>\n",
       "      <td>0.0</td>\n",
       "      <td>1.0</td>\n",
       "    </tr>\n",
       "    <tr>\n",
       "      <th>5162</th>\n",
       "      <td>2020-09-30</td>\n",
       "      <td>185.05</td>\n",
       "      <td>185.40</td>\n",
       "      <td>0.35</td>\n",
       "      <td>0.35</td>\n",
       "      <td>1.0</td>\n",
       "      <td>0.0</td>\n",
       "      <td>0.0</td>\n",
       "      <td>0.0</td>\n",
       "      <td>0.0</td>\n",
       "      <td>1.0</td>\n",
       "    </tr>\n",
       "  </tbody>\n",
       "</table>\n",
       "<p>5163 rows × 11 columns</p>\n",
       "</div>"
      ],
      "text/plain": [
       "            Date    Open   Close  Momentum  MomentumValue  VBR   BR    N   BL  \\\n",
       "0     2000-01-03  236.00  243.65      7.65           7.65  1.0  0.0  0.0  0.0   \n",
       "1     2000-01-04  243.65  259.10     15.45          15.45  1.0  0.0  0.0  0.0   \n",
       "2     2000-01-05  249.00  248.45     -0.55           0.55  1.0  0.0  0.0  0.0   \n",
       "3     2000-01-06  252.00  261.00      9.00           9.00  1.0  0.0  0.0  0.0   \n",
       "4     2000-01-07  261.50  273.30     11.80          11.80  1.0  0.0  0.0  0.0   \n",
       "...          ...     ...     ...       ...            ...  ...  ...  ...  ...   \n",
       "5158  2020-09-24  181.10  176.35     -4.75           4.75  1.0  0.0  0.0  0.0   \n",
       "5159  2020-09-25  179.00  182.20      3.20           3.20  1.0  0.0  0.0  0.0   \n",
       "5160  2020-09-28  184.00  187.25      3.25           3.25  1.0  0.0  0.0  0.0   \n",
       "5161  2020-09-29  188.50  185.05     -3.45           3.45  1.0  0.0  0.0  0.0   \n",
       "5162  2020-09-30  185.05  185.40      0.35           0.35  1.0  0.0  0.0  0.0   \n",
       "\n",
       "      VBL  FuzzyMomentum  \n",
       "0     0.0            1.0  \n",
       "1     0.0            1.0  \n",
       "2     0.0            1.0  \n",
       "3     0.0            1.0  \n",
       "4     0.0            1.0  \n",
       "...   ...            ...  \n",
       "5158  0.0            1.0  \n",
       "5159  0.0            1.0  \n",
       "5160  0.0            1.0  \n",
       "5161  0.0            1.0  \n",
       "5162  0.0            1.0  \n",
       "\n",
       "[5163 rows x 11 columns]"
      ]
     },
     "execution_count": 16,
     "metadata": {},
     "output_type": "execute_result"
    }
   ],
   "source": [
    "FuzzyDF"
   ]
  },
  {
   "cell_type": "code",
   "execution_count": 17,
   "metadata": {},
   "outputs": [],
   "source": [
    "window = 14\n",
    "Batches = []\n",
    "for i in range(window,FuzzyDF.shape[0]):\n",
    "    Batches.append(FuzzyDF.iloc[i-window:i,-1].values)\n",
    "    \n",
    "Batches = np.array(Batches)"
   ]
  },
  {
   "cell_type": "code",
   "execution_count": 18,
   "metadata": {},
   "outputs": [],
   "source": [
    "estimated = []\n",
    "for fuzzyMomentums in Batches:\n",
    "    estimated.append(edtimatedFuzzyMomentum(fuzzyMomentums))"
   ]
  },
  {
   "cell_type": "code",
   "execution_count": 19,
   "metadata": {},
   "outputs": [
    {
     "data": {
      "image/png": "[encoded data removed]",
      "text/plain": [
       "<Figure size 432x288 with 1 Axes>"
      ]
     },
     "metadata": {
      "needs_background": "light"
     },
     "output_type": "display_data"
    }
   ],
   "source": [
    "plt.scatter(FuzzyDF.index.values[14:],FuzzyDF[\"FuzzyMomentum\"].values[14:],color=\"blue\",label=\"Ground Truth\")\n",
    "plt.scatter(FuzzyDF.index.values[14:],[x for (x,y) in estimated],color=\"r\",label=\"Estimated\")\n",
    "plt.xlabel(\"Days\")\n",
    "plt.ylabel(\"Fuzzy Momentum\")\n",
    "plt.legend()\n",
    "plt.show()"
   ]
  },
  {
   "cell_type": "code",
   "execution_count": 20,
   "metadata": {},
   "outputs": [
    {
     "data": {
      "text/plain": [
       "0.0066585972638831415"
      ]
     },
     "execution_count": 20,
     "metadata": {},
     "output_type": "execute_result"
    }
   ],
   "source": [
    "mean_squared_error(FuzzyDF[\"FuzzyMomentum\"].values[14:],[x for (x,y) in estimated])"
   ]
  }
 ],
 "metadata": {
  "kernelspec": {
   "display_name": "Python 3.8.2 64-bit",
   "language": "python",
   "name": "python38264bit8dc949853ce2400b9f9a4221be640cd4"
  },
  "language_info": {
   "codemirror_mode": {
    "name": "ipython",
    "version": 3
   },
   "file_extension": ".py",
   "mimetype": "text/x-python",
   "name": "python",
   "nbconvert_exporter": "python",
   "pygments_lexer": "ipython3",
   "version": "3.8.6"
  }
 },
 "nbformat": 4,
 "nbformat_minor": 4
}
